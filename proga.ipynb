{
 "cells": [
  {
   "cell_type": "code",
   "execution_count": 124,
   "metadata": {},
   "outputs": [],
   "source": [
    "import openpyxl as xl\n",
    "from decimal import Decimal, getcontext\n",
    "\n",
    "class Result:\n",
    "    getcontext().prec = 9\n",
    "    target_cols = [4,11,12,22]\n",
    "\n",
    "    def __init__(self, n_of_digits):\n",
    "        '''self.n_of_digits - кол-во знаков порсле запятой'''\n",
    "        self.n_of_digits = n_of_digits \n",
    "        self.result = []\n",
    "        \n",
    "    def load_prepare_make(self, link):\n",
    "        '''Загружает Excel-таблицу, обрабатывает её, полноценно создает атрибут result'''\n",
    "        wb = xl.load_workbook(f'таблицы/{link}.xlsx', data_only=True)\n",
    "        sheet = wb.active\n",
    "        self.__total_gos_price = Decimal(sheet.cell(row=6,column=7).value)\n",
    "        for i in range(24,sheet.max_row):\n",
    "            fin_row = []\n",
    "            for j in Result.target_cols:\n",
    "                if j == 4:\n",
    "                    fin_row.append(str(Result.first_col_creator(sheet.cell(row=i,column=j).value)))\n",
    "                else:\n",
    "                    fin_row.append(str(sheet.cell(row=i,column=j).value))\n",
    "            self.result.append(fin_row)\n",
    "        for i in self.result:\n",
    "            i.append(Decimal(i[1]) * Decimal(i[2]))\n",
    "        for i in self.result:\n",
    "            i.append(Decimal(i[3]) / Decimal(i[2]) - 1)   \n",
    "\n",
    "    #################################################################\n",
    "\n",
    "    @staticmethod\n",
    "    def first_col_creator(txt):\n",
    "        '''Метод формирует первый элемент каждой строки списка .result'''\n",
    "        txt = txt.lower().split()\n",
    "        ml_num = ['мл', '№']\n",
    "        first_col = []\n",
    "        for i in txt:\n",
    "            for j in ml_num:\n",
    "                if j in i:\n",
    "                    first_col.append(i.replace(j,''))\n",
    "        first_col = [int(i) for i in first_col]\n",
    "        res = 1\n",
    "        for i in first_col:\n",
    "            res *= i\n",
    "        return res\n",
    "\n",
    "    #################################################################\n",
    "\n",
    "    def defining_consts(self):\n",
    "        '''Определение общей суммы и суммы строки'''\n",
    "        self.our_total = sum([i[4] for i in self.result])\n",
    "        self.rows_sum = [i[4] for i in self.result]\n",
    "        self.difference = self.__total_gos_price - self.our_total\n",
    "\n",
    "    def update(self):\n",
    "        '''Обновляет значения суммы строки и процента до предела реестра'''\n",
    "        for i in range(len(self.result)): #сумма строки\n",
    "            self.result[i][4] = Decimal(self.result[i][1]) * Decimal(self.result[i][2])\n",
    "            self.result[i][5] = (Decimal(self.result[i][3]) / Decimal(self.result[i][2])) - 1\n",
    "        self.defining_consts()\n",
    "\n",
    "    #################################################################\n",
    "\n",
    "    def count_up_to_n_decimal_places(self,index):\n",
    "        '''Подбивает строку под n-знаков'''\n",
    "        price_of_ml = Decimal(self.result[index][2]) / Decimal(self.result[index][0])\n",
    "        price_of_ml = str(price_of_ml).split('.')[0] + '.' + str(price_of_ml).split('.')[1][:self.n_of_digits]\n",
    "        new_full_price = Decimal(price_of_ml) * Decimal(self.result[index][0])\n",
    "        while new_full_price != Decimal(str(new_full_price).split('.')[0] + '.' + str(new_full_price).split('.')[1][:2]) and Decimal(price_of_ml) > 0:\n",
    "            price_of_ml = str(Decimal(price_of_ml)-Decimal('0.01'))\n",
    "            new_full_price = Decimal(price_of_ml) * Decimal(self.result[index][0])\n",
    "        self.result[index][2] = str(new_full_price)\n",
    "        print(new_full_price)\n",
    "\n",
    "\n",
    "        # price_of_ml = Decimal(self.result[index][2]) / (Decimal(self.result[index][0]))\n",
    "        # new_price = round(price_of_ml, self.n_of_digits) * Decimal(self.result[index][0])\n",
    "        # if Decimal(new_price) != Decimal(round(new_price, 2)):\n",
    "        #     new_price = ((round(price_of_ml, self.n_of_digits) - Decimal(1 / 10 ** (self.n_of_digits))) * Decimal(self.result[index][0]))\n",
    "\n",
    "        # new_row_price = Decimal(new_price) * Decimal(self.result[index][1])\n",
    "\n",
    "        # if (new_row_price < self.result[index][4]+self.difference) and (Decimal(new_price) <= Decimal(self.result[index][3])):\n",
    "        #     self.result[index][2] = str(new_price)        \n",
    "        # else:\n",
    "        #     self.result[index][2] = str(((round(price_of_ml,self.n_of_digits) - Decimal(1 / 10 ** (self.n_of_digits))) * Decimal(self.result[index][0])))\n",
    "        # self.update()\n",
    "    \n",
    "    # def count_up_to_n_decimal_places(self,index):\n",
    "    #     '''ы'''\n",
    "    #     price_of_ml = Decimal(self.result[index][2]) / (Decimal(self.result[index][0]))\n",
    "    #     new_price = Decimal(round(price_of_ml, self.n_of_digits)) * Decimal(self.result[index][0])\n",
    "    #     while Decimal(str(new_price)) != Decimal(str(round(Decimal(new_price), 2))):\n",
    "    #         new_price = Decimal((round(price_of_ml, self.n_of_digits) - Decimal(1 / 10 ** (self.n_of_digits))) * Decimal(self.result[index][0]))\n",
    "            \n",
    "    #     # new_price = round(price_of_ml, self.n_of_digits) * Decimal(self.result[index][0])\n",
    "    #     # #оберни циклом вайл чтобы много знаков считалось нормально(пока новая цена не примет два знака после запятой)\n",
    "    #     # if new_price != round(new_price, 2):\n",
    "    #     #     new_price = str(((round(price_of_ml, self.n_of_digits) - Decimal(1 / 10 ** (self.n_of_digits))) * Decimal(self.result[index][0])))\n",
    "\n",
    "    #     new_row_price = Decimal(new_price) * Decimal(self.result[index][1])\n",
    "\n",
    "    #     if (new_row_price < self.result[index][4]+self.difference) and (Decimal(new_price) <= Decimal(self.result[index][3])):\n",
    "    #         self.result[index][2] = str(new_price)        \n",
    "    #     else:\n",
    "    #         self.result[index][2] = str(((round(price_of_ml,self.n_of_digits) - Decimal(1 / 10 ** (self.n_of_digits))) * Decimal(self.result[index][0])))\n",
    "    #     self.update()\n",
    "\n",
    "    def divide_to_2_rows(self, index):\n",
    "        index -= 1\n",
    "        summ, amount1, NxV = Decimal(self.result[index][4]), self.result[index][1], self.result[index][0]\n",
    "        price_ml_1 = Decimal(input(f'Цена за мл: {summ / Decimal(amount1) / Decimal(NxV)}\\nЦена за мл 1: '))\n",
    "        price_ml_2 = Decimal(input(f'Цена за мл: {summ / Decimal(amount1) / Decimal(NxV)}\\nЦена за мл 2: '))\n",
    "        lst=[]\n",
    "        # for i in range(1, int(amount1) + 1):\n",
    "        #     amount2 = int(amount1) - i\n",
    "        #     lst[i] = \n",
    "        lst2 = [(summ - ((Decimal(amount1) * Decimal(NxV) * Decimal(price_ml_1)) + (Decimal(int(amount1) - i) * Decimal(NxV) * Decimal(price_ml_2)))) for i in range(1,int(amount1))]\n",
    "        min_diff, min_index = min(lst2), lst.index(min(lst2))\n",
    "        print(f'Остаток: {min_diff} | Кол-во упаковок по цене {price_ml_1} за мл - {min_index} | Кол-во упаковок по цене {price_ml_2} за мл - {self.result[index][1] - min_index}')\n",
    "    #################################################################\n",
    "    def price_price_output(self):\n",
    "        for j, i in enumerate(self.result, start=1):\n",
    "            price, const = Decimal(i[2]), Decimal(i[0])\n",
    "            print(f'{j}) {price}---{price / const}')\n",
    "\n",
    "    def final_print(self):\n",
    "        '''Метод финальной печати .result'''\n",
    "        self.update()\n",
    "        for i in self.result:\n",
    "            print(str(i))\n",
    "        print('Цена госзакупки: ' + str(self.__total_gos_price))\n",
    "        print('Цена контракта:  ' + str(self.our_total))\n",
    "        print('Разница:         ' + str(self.difference))\n"
   ]
  },
  {
   "cell_type": "code",
   "execution_count": 102,
   "metadata": {},
   "outputs": [
    {
     "data": {
      "text/plain": [
       "'0.0324'"
      ]
     },
     "execution_count": 102,
     "metadata": {},
     "output_type": "execute_result"
    }
   ],
   "source": [
    "price = 0.0324675\n",
    "price = str(price).split('.')[0]+'.'+str(price).split('.')[1][:n_of_digits]\n",
    "price"
   ]
  },
  {
   "cell_type": "code",
   "execution_count": 126,
   "metadata": {},
   "outputs": [
    {
     "name": "stdout",
     "output_type": "stream",
     "text": [
      "336.6000\n",
      "556.30000\n",
      "627.84000\n",
      "573.28000\n",
      "731.28000\n",
      "1051.20000\n",
      "803.52000\n",
      "730.10000\n",
      "-8.25600\n",
      "['6000', '700', '336.6000', '336.65', Decimal('235620.000'), Decimal('0.00014854')]\n",
      "['10000', '422', '556.30000', '556.47', Decimal('234758.600'), Decimal('0.00030559')]\n",
      "['6000', '350', '627.84000', '778.56', Decimal('219744.000'), Decimal('0.24006116')]\n",
      "['8000', '200', '573.28000', '573.41', Decimal('114656.000'), Decimal('0.00022677')]\n",
      "['8000', '625', '731.28000', '1115.97', Decimal('457050.000'), Decimal('0.52605021')]\n",
      "['8000', '313', '1051.20000', '1239.69', Decimal('329025.600'), Decimal('0.17930936')]\n",
      "['6400', '390', '803.52000', '803.59', Decimal('313372.800'), Decimal('0.00008712')]\n",
      "['10000', '2500', '730.10000', '918.49', Decimal('1825250.00'), Decimal('0.25803315')]\n",
      "['6400', '3907', '-8.25600', '626.35', Decimal('-32256.1920'), Decimal('-76.8660368')]\n",
      "Цена госзакупки: 5698116.25\n",
      "Цена контракта:  3697220.81\n",
      "Разница:         2000895.44\n"
     ]
    }
   ],
   "source": [
    "res=Result(5)\n",
    "res.load_prepare_make('0721')\n",
    "res.update()\n",
    "for i in range(len(res.result)):\n",
    "    res.count_up_to_n_decimal_places(i)\n",
    "res.update()\n",
    "res.final_print()"
   ]
  },
  {
   "cell_type": "code",
   "execution_count": 61,
   "metadata": {},
   "outputs": [],
   "source": [
    "res.result[7][2] = '739.75'"
   ]
  },
  {
   "cell_type": "code",
   "execution_count": null,
   "metadata": {},
   "outputs": [],
   "source": [
    "index = 8\n",
    "price = round(Decimal(res.result[index][2]), 2)\n",
    "const = Decimal(res.result[index][0])\n",
    "for i in range(50):\n",
    "    print(f'{price}---{price / const}')\n",
    "    price -= Decimal('0.01')\n",
    "\n",
    "res.update()\n",
    "# res.final_print()"
   ]
  },
  {
   "cell_type": "code",
   "execution_count": null,
   "metadata": {},
   "outputs": [],
   "source": [
    "res.price_price_output()"
   ]
  },
  {
   "cell_type": "code",
   "execution_count": null,
   "metadata": {},
   "outputs": [],
   "source": [
    "index=0\n",
    "\n",
    "price_of_ml = Decimal(self.result[index][2]) / Decimal(self.result[index][0])\n",
    "        price_of_ml = str(price_of_ml).split('.')[0] + '.' + str(price_of_ml).split('.')[1][:self.n_of_digits]\n",
    "        new_full_price = Decimal(price_of_ml) * Decimal(self.result[index][0])\n",
    "        while new_full_price != Decimal(str(new_full_price).split('.')[0] + '.' + str(new_full_price).split('.')[1][:2])\n",
    "            price_of_ml = str(Decimal(price_of_ml)-Decimal('0.01'))\n",
    "            new_full_price = Decimal(price_of_ml) * Decimal(self.result[index][0])\n",
    "        print(new_full_price)"
   ]
  }
 ],
 "metadata": {
  "kernelspec": {
   "display_name": "Python 3",
   "language": "python",
   "name": "python3"
  },
  "language_info": {
   "codemirror_mode": {
    "name": "ipython",
    "version": 3
   },
   "file_extension": ".py",
   "mimetype": "text/x-python",
   "name": "python",
   "nbconvert_exporter": "python",
   "pygments_lexer": "ipython3",
   "version": "3.10.6"
  },
  "orig_nbformat": 4,
  "vscode": {
   "interpreter": {
    "hash": "a9ba2379aa31e5456e1ad50d34783f8a17b1f0211fdf4fdbebdeca4f17df7db1"
   }
  }
 },
 "nbformat": 4,
 "nbformat_minor": 2
}
